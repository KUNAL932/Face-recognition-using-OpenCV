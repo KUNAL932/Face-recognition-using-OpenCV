{
 "cells": [
  {
   "cell_type": "code",
   "execution_count": 1,
   "metadata": {},
   "outputs": [],
   "source": [
    "from PIL import Image\n",
    "import face_recognition\n",
    "import numpy as np\n",
    "import cv2\n",
    "import os"
   ]
  },
  {
   "cell_type": "code",
   "execution_count": 3,
   "metadata": {},
   "outputs": [
    {
     "name": "stdout",
     "output_type": "stream",
     "text": [
      "the number of images:4\n",
      "A face is located at pixel location Top: 129, Left: 280, Bottom: 191, Right: 342\n",
      "A face is located at pixel location Top: 108, Left: 142, Bottom: 170, Right: 204\n",
      "A face is located at pixel location Top: 113, Left: 660, Bottom: 188, Right: 735\n",
      "A face is located at pixel location Top: 122, Left: 467, Bottom: 184, Right: 529\n"
     ]
    }
   ],
   "source": [
    "image = cv2.imread('presidents.jpg',0)\n",
    "cv2.imshow('Presidents images',image)\n",
    "cv2.waitKey()\n",
    "face_locations = face_recognition.face_locations(image)\n",
    "print('the number of images:{}'.format(len(face_locations)))\n",
    "for face_location in face_locations:\n",
    "    top, right, bottom, left = face_location\n",
    "    print(\"A face is located at pixel location Top: {}, Left: {}, Bottom: {}, Right: {}\".format(top, left, bottom, right))\n",
    "    face_images = image[top:bottom, left:right]\n",
    "    pil_image = Image.fromarray(face_images)\n",
    "    pil_image.show()"
   ]
  },
  {
   "cell_type": "code",
   "execution_count": null,
   "metadata": {},
   "outputs": [],
   "source": [
    "\n"
   ]
  },
  {
   "cell_type": "code",
   "execution_count": null,
   "metadata": {},
   "outputs": [],
   "source": []
  }
 ],
 "metadata": {
  "kernelspec": {
   "display_name": "Python 3",
   "language": "python",
   "name": "python3"
  },
  "language_info": {
   "codemirror_mode": {
    "name": "ipython",
    "version": 3
   },
   "file_extension": ".py",
   "mimetype": "text/x-python",
   "name": "python",
   "nbconvert_exporter": "python",
   "pygments_lexer": "ipython3",
   "version": "3.7.1"
  }
 },
 "nbformat": 4,
 "nbformat_minor": 2
}
