{
 "cells": [
  {
   "cell_type": "code",
   "execution_count": 1,
   "metadata": {},
   "outputs": [],
   "source": [
    "import numpy as np\n",
    "from PIL import Image,ImageDraw\n",
    "import cv2\n",
    "import face_recognition"
   ]
  },
  {
   "cell_type": "code",
   "execution_count": 2,
   "metadata": {},
   "outputs": [],
   "source": [
    "obama_image =face_recognition.load_image_file('obama.jpg')\n",
    "obama_face_encoding = face_recognition.face_encodings(obama_image)[0]\n",
    "\n",
    "biden_image =face_recognition.load_image_file('biden.jpg')\n",
    "biden_face_encoding = face_recognition.face_encodings(biden_image)[0]\n",
    "# array of known face names\n",
    "known_face_names = [ \"Barack Obama\" , \" Joe Biden\"]\n",
    "\n",
    "# known face encoding array\n",
    "known_face_encoding = [ obama_face_encoding,biden_face_encoding]\n",
    "# the image on which recognition have to be done\n",
    "unknown_image = face_recognition.load_image_file('two-people.jpg')\n",
    "\n",
    "face_locations = face_recognition.face_locations(unknown_image)\n",
    "face_encodings = face_recognition.face_encodings(unknown_image,known_face_locations= face_locations)\n",
    "\n",
    "pil_image = Image.fromarray(unknown_image)\n",
    "draw = ImageDraw.Draw(pil_image)\n",
    "\n",
    "for (top,right,bottom,left),face_encoding in zip(face_locations,face_encodings):\n",
    "    matches = face_recognition.compare_faces(known_face_encoding , face_encoding)\n",
    "    name = \"unknown\" # intialising the string\n",
    "    if True in matches:\n",
    "        first_match_index = matches.index(True)\n",
    "        name = known_face_names[first_match_index]\n",
    "    draw.rectangle(((left,top),(right,bottom)),outline = (0,0,255))\n",
    "    \n",
    "    text_width , text_height = draw.textsize(name)\n",
    "    draw.rectangle(((left, bottom - text_height - 10), (right, bottom)), fill=(0, 0, 255), outline=(0, 0, 255))\n",
    "\n",
    "    draw.text(( left + 6,bottom - text_height - 5),name,fill = (255,255,255))\n",
    "del draw\n",
    "pil_image.show()\n"
   ]
  }
 ],
 "metadata": {
  "kernelspec": {
   "display_name": "Python 3",
   "language": "python",
   "name": "python3"
  },
  "language_info": {
   "codemirror_mode": {
    "name": "ipython",
    "version": 3
   },
   "file_extension": ".py",
   "mimetype": "text/x-python",
   "name": "python",
   "nbconvert_exporter": "python",
   "pygments_lexer": "ipython3",
   "version": "3.7.1"
  }
 },
 "nbformat": 4,
 "nbformat_minor": 2
}
